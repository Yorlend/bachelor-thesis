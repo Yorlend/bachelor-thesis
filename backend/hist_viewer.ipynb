{
 "cells": [
  {
   "cell_type": "code",
   "execution_count": 34,
   "metadata": {},
   "outputs": [],
   "source": [
    "import numpy as np\n",
    "import pandas as pd\n",
    "from sklearn.decomposition import PCA\n",
    "import seaborn as sns"
   ]
  },
  {
   "cell_type": "code",
   "execution_count": 35,
   "metadata": {},
   "outputs": [
    {
     "data": {
      "text/plain": [
       "((11, 10, 10, 2), (11, 10, 10, 2))"
      ]
     },
     "execution_count": 35,
     "metadata": {},
     "output_type": "execute_result"
    }
   ],
   "source": [
    "# load history data\n",
    "boid_poses = np.load('opt_history_pos.npy')\n",
    "boid_velocities = np.load('opt_history_vel.npy')\n",
    "\n",
    "N_steps, N_boids = boid_poses.shape[:2]\n",
    "\n",
    "boid_poses.shape, boid_velocities.shape"
   ]
  },
  {
   "cell_type": "code",
   "execution_count": 36,
   "metadata": {},
   "outputs": [
    {
     "data": {
      "text/plain": [
       "((11, 10, 20), (11, 10, 20))"
      ]
     },
     "execution_count": 36,
     "metadata": {},
     "output_type": "execute_result"
    }
   ],
   "source": [
    "# reshape data\n",
    "boid_poses = boid_poses.reshape(N_steps, N_boids, -1)\n",
    "boid_velocities = boid_velocities.reshape(N_steps, N_boids, -1)\n",
    "\n",
    "boid_poses.shape, boid_velocities.shape"
   ]
  },
  {
   "cell_type": "code",
   "execution_count": 37,
   "metadata": {},
   "outputs": [
    {
     "data": {
      "text/plain": [
       "((11, 10, 2), (11, 10, 2))"
      ]
     },
     "execution_count": 37,
     "metadata": {},
     "output_type": "execute_result"
    }
   ],
   "source": [
    "# dimensionality reduction with PCA\n",
    "\n",
    "pca = PCA(n_components=2)\n",
    "boid_poses_2d = pca.fit_transform(boid_poses.reshape(N_steps * N_boids, -1)).reshape(N_steps, N_boids, -1)\n",
    "boid_velocities_2d = pca.fit_transform(boid_velocities.reshape(N_steps * N_boids, -1)).reshape(N_steps, N_boids, -1)\n",
    "\n",
    "boid_poses_2d.shape, boid_velocities_2d.shape"
   ]
  },
  {
   "cell_type": "code",
   "execution_count": 38,
   "metadata": {},
   "outputs": [
    {
     "data": {
      "text/html": [
       "<div>\n",
       "<style scoped>\n",
       "    .dataframe tbody tr th:only-of-type {\n",
       "        vertical-align: middle;\n",
       "    }\n",
       "\n",
       "    .dataframe tbody tr th {\n",
       "        vertical-align: top;\n",
       "    }\n",
       "\n",
       "    .dataframe thead th {\n",
       "        text-align: right;\n",
       "    }\n",
       "</style>\n",
       "<table border=\"1\" class=\"dataframe\">\n",
       "  <thead>\n",
       "    <tr style=\"text-align: right;\">\n",
       "      <th></th>\n",
       "      <th>step</th>\n",
       "      <th>boid_id</th>\n",
       "      <th>pca_0</th>\n",
       "      <th>pca_1</th>\n",
       "      <th>vel_0</th>\n",
       "      <th>vel_1</th>\n",
       "    </tr>\n",
       "  </thead>\n",
       "  <tbody>\n",
       "    <tr>\n",
       "      <th>0</th>\n",
       "      <td>0</td>\n",
       "      <td>0</td>\n",
       "      <td>-38.789398</td>\n",
       "      <td>6.170558</td>\n",
       "      <td>-17.949888</td>\n",
       "      <td>-2.087171</td>\n",
       "    </tr>\n",
       "    <tr>\n",
       "      <th>1</th>\n",
       "      <td>0</td>\n",
       "      <td>1</td>\n",
       "      <td>32.858690</td>\n",
       "      <td>-0.809278</td>\n",
       "      <td>-17.614537</td>\n",
       "      <td>-2.593260</td>\n",
       "    </tr>\n",
       "    <tr>\n",
       "      <th>2</th>\n",
       "      <td>0</td>\n",
       "      <td>2</td>\n",
       "      <td>-10.328965</td>\n",
       "      <td>47.004032</td>\n",
       "      <td>-17.779530</td>\n",
       "      <td>-2.213016</td>\n",
       "    </tr>\n",
       "    <tr>\n",
       "      <th>3</th>\n",
       "      <td>0</td>\n",
       "      <td>3</td>\n",
       "      <td>-9.606558</td>\n",
       "      <td>-37.130290</td>\n",
       "      <td>-17.977709</td>\n",
       "      <td>-2.139261</td>\n",
       "    </tr>\n",
       "    <tr>\n",
       "      <th>4</th>\n",
       "      <td>0</td>\n",
       "      <td>4</td>\n",
       "      <td>2.517175</td>\n",
       "      <td>-43.097006</td>\n",
       "      <td>-17.343821</td>\n",
       "      <td>-2.061911</td>\n",
       "    </tr>\n",
       "    <tr>\n",
       "      <th>...</th>\n",
       "      <td>...</td>\n",
       "      <td>...</td>\n",
       "      <td>...</td>\n",
       "      <td>...</td>\n",
       "      <td>...</td>\n",
       "      <td>...</td>\n",
       "    </tr>\n",
       "    <tr>\n",
       "      <th>105</th>\n",
       "      <td>10</td>\n",
       "      <td>5</td>\n",
       "      <td>-6.543576</td>\n",
       "      <td>24.956373</td>\n",
       "      <td>15.845969</td>\n",
       "      <td>-15.922815</td>\n",
       "    </tr>\n",
       "    <tr>\n",
       "      <th>106</th>\n",
       "      <td>10</td>\n",
       "      <td>6</td>\n",
       "      <td>24.122520</td>\n",
       "      <td>7.131744</td>\n",
       "      <td>35.190676</td>\n",
       "      <td>-8.696454</td>\n",
       "    </tr>\n",
       "    <tr>\n",
       "      <th>107</th>\n",
       "      <td>10</td>\n",
       "      <td>7</td>\n",
       "      <td>-38.495155</td>\n",
       "      <td>-9.630411</td>\n",
       "      <td>2.149871</td>\n",
       "      <td>21.182383</td>\n",
       "    </tr>\n",
       "    <tr>\n",
       "      <th>108</th>\n",
       "      <td>10</td>\n",
       "      <td>8</td>\n",
       "      <td>-11.717977</td>\n",
       "      <td>10.312441</td>\n",
       "      <td>20.968054</td>\n",
       "      <td>1.084899</td>\n",
       "    </tr>\n",
       "    <tr>\n",
       "      <th>109</th>\n",
       "      <td>10</td>\n",
       "      <td>9</td>\n",
       "      <td>24.084803</td>\n",
       "      <td>-9.382478</td>\n",
       "      <td>28.095402</td>\n",
       "      <td>-5.124542</td>\n",
       "    </tr>\n",
       "  </tbody>\n",
       "</table>\n",
       "<p>110 rows × 6 columns</p>\n",
       "</div>"
      ],
      "text/plain": [
       "     step  boid_id      pca_0      pca_1      vel_0      vel_1\n",
       "0       0        0 -38.789398   6.170558 -17.949888  -2.087171\n",
       "1       0        1  32.858690  -0.809278 -17.614537  -2.593260\n",
       "2       0        2 -10.328965  47.004032 -17.779530  -2.213016\n",
       "3       0        3  -9.606558 -37.130290 -17.977709  -2.139261\n",
       "4       0        4   2.517175 -43.097006 -17.343821  -2.061911\n",
       "..    ...      ...        ...        ...        ...        ...\n",
       "105    10        5  -6.543576  24.956373  15.845969 -15.922815\n",
       "106    10        6  24.122520   7.131744  35.190676  -8.696454\n",
       "107    10        7 -38.495155  -9.630411   2.149871  21.182383\n",
       "108    10        8 -11.717977  10.312441  20.968054   1.084899\n",
       "109    10        9  24.084803  -9.382478  28.095402  -5.124542\n",
       "\n",
       "[110 rows x 6 columns]"
      ]
     },
     "execution_count": 38,
     "metadata": {},
     "output_type": "execute_result"
    }
   ],
   "source": [
    "# dataframe building\n",
    "\n",
    "df = pd.DataFrame({'step': np.repeat(np.arange(N_steps), N_boids),\n",
    "                   'boid_id': np.repeat(np.arange(N_boids), N_steps).reshape(N_boids, N_steps).T.flatten(),\n",
    "                   'pca_0': boid_poses_2d[:, :, 0].flatten(),\n",
    "                   'pca_1': boid_poses_2d[:, :, 1].flatten(),\n",
    "                   'vel_0': boid_velocities_2d[:, :, 0].flatten(),\n",
    "                   'vel_1': boid_velocities_2d[:, :, 1].flatten()})\n",
    "df"
   ]
  },
  {
   "cell_type": "code",
   "execution_count": 39,
   "metadata": {},
   "outputs": [
    {
     "data": {
      "text/html": [
       "<div>\n",
       "<style scoped>\n",
       "    .dataframe tbody tr th:only-of-type {\n",
       "        vertical-align: middle;\n",
       "    }\n",
       "\n",
       "    .dataframe tbody tr th {\n",
       "        vertical-align: top;\n",
       "    }\n",
       "\n",
       "    .dataframe thead th {\n",
       "        text-align: right;\n",
       "    }\n",
       "</style>\n",
       "<table border=\"1\" class=\"dataframe\">\n",
       "  <thead>\n",
       "    <tr style=\"text-align: right;\">\n",
       "      <th></th>\n",
       "      <th>step</th>\n",
       "      <th>boid_id</th>\n",
       "      <th>pca_0</th>\n",
       "      <th>pca_1</th>\n",
       "      <th>vel_0</th>\n",
       "      <th>vel_1</th>\n",
       "    </tr>\n",
       "  </thead>\n",
       "  <tbody>\n",
       "    <tr>\n",
       "      <th>3</th>\n",
       "      <td>0</td>\n",
       "      <td>3</td>\n",
       "      <td>-9.606558</td>\n",
       "      <td>-37.130290</td>\n",
       "      <td>-17.977709</td>\n",
       "      <td>-2.139261</td>\n",
       "    </tr>\n",
       "    <tr>\n",
       "      <th>13</th>\n",
       "      <td>1</td>\n",
       "      <td>3</td>\n",
       "      <td>-9.748640</td>\n",
       "      <td>-36.884505</td>\n",
       "      <td>-14.466678</td>\n",
       "      <td>0.682560</td>\n",
       "    </tr>\n",
       "    <tr>\n",
       "      <th>23</th>\n",
       "      <td>2</td>\n",
       "      <td>3</td>\n",
       "      <td>-10.064398</td>\n",
       "      <td>-36.381372</td>\n",
       "      <td>-10.988110</td>\n",
       "      <td>3.475676</td>\n",
       "    </tr>\n",
       "    <tr>\n",
       "      <th>33</th>\n",
       "      <td>3</td>\n",
       "      <td>3</td>\n",
       "      <td>-10.550674</td>\n",
       "      <td>-35.625924</td>\n",
       "      <td>-7.576792</td>\n",
       "      <td>6.212155</td>\n",
       "    </tr>\n",
       "    <tr>\n",
       "      <th>43</th>\n",
       "      <td>4</td>\n",
       "      <td>3</td>\n",
       "      <td>-11.202606</td>\n",
       "      <td>-34.625714</td>\n",
       "      <td>-4.266837</td>\n",
       "      <td>8.864633</td>\n",
       "    </tr>\n",
       "    <tr>\n",
       "      <th>53</th>\n",
       "      <td>5</td>\n",
       "      <td>3</td>\n",
       "      <td>-12.013675</td>\n",
       "      <td>-33.390745</td>\n",
       "      <td>-1.091343</td>\n",
       "      <td>11.406585</td>\n",
       "    </tr>\n",
       "    <tr>\n",
       "      <th>63</th>\n",
       "      <td>6</td>\n",
       "      <td>3</td>\n",
       "      <td>-12.975770</td>\n",
       "      <td>-31.933366</td>\n",
       "      <td>1.917933</td>\n",
       "      <td>13.812591</td>\n",
       "    </tr>\n",
       "    <tr>\n",
       "      <th>73</th>\n",
       "      <td>7</td>\n",
       "      <td>3</td>\n",
       "      <td>-14.079270</td>\n",
       "      <td>-30.268152</td>\n",
       "      <td>4.730900</td>\n",
       "      <td>16.058591</td>\n",
       "    </tr>\n",
       "    <tr>\n",
       "      <th>83</th>\n",
       "      <td>8</td>\n",
       "      <td>3</td>\n",
       "      <td>-15.313139</td>\n",
       "      <td>-28.411753</td>\n",
       "      <td>7.319427</td>\n",
       "      <td>18.122126</td>\n",
       "    </tr>\n",
       "    <tr>\n",
       "      <th>93</th>\n",
       "      <td>9</td>\n",
       "      <td>3</td>\n",
       "      <td>-16.665040</td>\n",
       "      <td>-26.382735</td>\n",
       "      <td>9.657629</td>\n",
       "      <td>19.982559</td>\n",
       "    </tr>\n",
       "    <tr>\n",
       "      <th>103</th>\n",
       "      <td>10</td>\n",
       "      <td>3</td>\n",
       "      <td>-18.121453</td>\n",
       "      <td>-24.201388</td>\n",
       "      <td>11.722124</td>\n",
       "      <td>21.621287</td>\n",
       "    </tr>\n",
       "  </tbody>\n",
       "</table>\n",
       "</div>"
      ],
      "text/plain": [
       "     step  boid_id      pca_0      pca_1      vel_0      vel_1\n",
       "3       0        3  -9.606558 -37.130290 -17.977709  -2.139261\n",
       "13      1        3  -9.748640 -36.884505 -14.466678   0.682560\n",
       "23      2        3 -10.064398 -36.381372 -10.988110   3.475676\n",
       "33      3        3 -10.550674 -35.625924  -7.576792   6.212155\n",
       "43      4        3 -11.202606 -34.625714  -4.266837   8.864633\n",
       "53      5        3 -12.013675 -33.390745  -1.091343  11.406585\n",
       "63      6        3 -12.975770 -31.933366   1.917933  13.812591\n",
       "73      7        3 -14.079270 -30.268152   4.730900  16.058591\n",
       "83      8        3 -15.313139 -28.411753   7.319427  18.122126\n",
       "93      9        3 -16.665040 -26.382735   9.657629  19.982559\n",
       "103    10        3 -18.121453 -24.201388  11.722124  21.621287"
      ]
     },
     "execution_count": 39,
     "metadata": {},
     "output_type": "execute_result"
    }
   ],
   "source": [
    "df[df['boid_id'] == 3]"
   ]
  },
  {
   "cell_type": "code",
   "execution_count": 40,
   "metadata": {},
   "outputs": [
    {
     "data": {
      "text/plain": [
       "<Axes: xlabel='pca_0', ylabel='pca_1'>"
      ]
     },
     "execution_count": 40,
     "metadata": {},
     "output_type": "execute_result"
    },
    {
     "data": {
      "image/png": "[encoded data removed]",
      "text/plain": [
       "<Figure size 640x480 with 1 Axes>"
      ]
     },
     "metadata": {},
     "output_type": "display_data"
    }
   ],
   "source": [
    "sns.scatterplot(df, x='pca_0', y='pca_1', hue='step')"
   ]
  },
  {
   "cell_type": "code",
   "execution_count": 41,
   "metadata": {},
   "outputs": [
    {
     "data": {
      "text/plain": [
       "<Axes: xlabel='vel_0', ylabel='vel_1'>"
      ]
     },
     "execution_count": 41,
     "metadata": {},
     "output_type": "execute_result"
    },
    {
     "data": {
      "image/png": "[encoded data removed]",
      "text/plain": [
       "<Figure size 640x480 with 1 Axes>"
      ]
     },
     "metadata": {},
     "output_type": "display_data"
    }
   ],
   "source": [
    "# visualize velocities\n",
    "\n",
    "sns.scatterplot(df, x='vel_0', y='vel_1', hue='step')"
   ]
  }
 ],
 "metadata": {
  "kernelspec": {
   "display_name": ".venv",
   "language": "python",
   "name": "python3"
  },
  "language_info": {
   "codemirror_mode": {
    "name": "ipython",
    "version": 3
   },
   "file_extension": ".py",
   "mimetype": "text/x-python",
   "name": "python",
   "nbconvert_exporter": "python",
   "pygments_lexer": "ipython3",
   "version": "3.12.3"
  }
 },
 "nbformat": 4,
 "nbformat_minor": 2
}
